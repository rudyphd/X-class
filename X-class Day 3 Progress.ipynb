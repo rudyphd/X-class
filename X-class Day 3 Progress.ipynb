{
 "cells": [
  {
   "cell_type": "markdown",
   "metadata": {},
   "source": [
    "# X-class Day 3: Prototyping Source Classification with Random Forest\n",
    "\n",
    "Using RandomForestClassifier from scikit learn to train a classifier on photon event metadata. \n",
    "\n",
    "Input files: \n",
    " - event list \n",
    " - region files for training sets (bkg and src)\n",
    " - region files for testing sets (bkg and src)"
   ]
  },
  {
   "cell_type": "code",
   "execution_count": 1,
   "metadata": {
    "collapsed": true
   },
   "outputs": [],
   "source": [
    "# %load class2.py\n",
    "import pandas as pd\n",
    "import numpy as np\n",
    "import copy\n",
    "#import seaborn as sns\n",
    "import matplotlib as mpl\n",
    "import matplotlib.cm as cm\n",
    "from astropy.table import Table, vstack\n",
    "from sklearn.ensemble import RandomForestClassifier"
   ]
  },
  {
   "cell_type": "code",
   "execution_count": 2,
   "metadata": {
    "collapsed": true
   },
   "outputs": [],
   "source": [
    "def parse_region_file(reg_file): \n",
    "    f = open(reg_file,'r')\n",
    "    x,y,r =[],[],[]\n",
    "    for l in f.readlines(): \n",
    "        if l[0] not in ['#','\\n',' ']:\n",
    "            xt,yt,rt = l.split('(')[1].split(')')[0].split(',')\n",
    "            x.append(float(xt));y.append(float(yt));r.append(float(rt))\n",
    "    return np.asarray(x),np.asarray(y),np.asarray(r)\n",
    "\n",
    "def get_events(evt,x,y,r=6.0):\n",
    "    \"\"\"get events from a position and calculate offset\"\"\"\n",
    "    revt = np.sqrt((evt['x']-x)**2+(evt['y']-y)**2)\n",
    "    tevt = copy.copy(evt[revt<=r])\n",
    "    tevt['xoff'] = tevt['x']-x\n",
    "    tevt['yoff'] = tevt['y']-y\n",
    "    del tevt['x']\n",
    "    del tevt['y']\n",
    "    return tevt\n",
    "\n",
    "def merge_pos(evt,x,y,lab,r=6.0): \n",
    "    for i in range(len(x)): \n",
    "        if (i == 0): \n",
    "            mevt = get_events(evt,x[i],y[i],r)\n",
    "            levt = np.zeros(len(mevt))\n",
    "            levt[:] = lab[i]\n",
    "        else:\n",
    "            tmpevt = get_events(evt,x[i],y[i],r)\n",
    "            tmplevt = np.zeros(len(tmpevt))\n",
    "            tmplevt[:] = lab[i] \n",
    "            mevt = vstack([mevt,tmpevt])\n",
    "            levt = np.hstack([levt,tmplevt])\n",
    "            \n",
    "    return mevt,levt\n",
    "\n",
    "def build_rfc(evt,lab,rfc = None):\n",
    "    if (rfc is None): \n",
    "        rfc = RandomForestClassifier(n_estimators=200,oob_score=True)\n",
    "    X = copy.copy(evt.to_pandas())\n",
    "    Y = copy.copy(lab)\n",
    "    rfc.fit(X.values,Y)\n",
    "    return rfc,X.values,Y\n",
    "\n",
    "def do_rfc(evt,rfc): \n",
    "    X = copy.copy(evt.to_pandas())\n",
    "    Y = rfc.predict(X.values)\n",
    "    print \"{0:0.1f} {1:0.1f} ({2})\".format(100.*float(len(np.where(Y==0)[0]))/len(Y),\n",
    "                                           100.*float(len(np.where(Y==1)[0]))/len(Y),len(Y))\n",
    "    return Y  "
   ]
  },
  {
   "cell_type": "code",
   "execution_count": 3,
   "metadata": {
    "collapsed": true
   },
   "outputs": [],
   "source": [
    "# read all events \n",
    "e = Table.read('Data/evt_1229.fits',hdu=1)\n",
    "# rid ec of bad columns\n",
    "ec = copy.copy(e)\n",
    "badcols = ['status','ccd_id','expno','node_id','chipx','chipy','tdetx','tdety','detx','dety','pi','pha']\n",
    "for bc in badcols: \n",
    "    del ec[bc]"
   ]
  },
  {
   "cell_type": "code",
   "execution_count": 4,
   "metadata": {
    "collapsed": false
   },
   "outputs": [],
   "source": [
    "# read region positions:\n",
    "b1x,b1y,b1r = parse_region_file('Data/b1_1229.reg')\n",
    "b2x,b2y,b2r = parse_region_file('Data/b2_1229.reg')\n",
    "s1x,s1y,s1r = parse_region_file('Data/src1_1229.reg')\n",
    "s2x,s2y,s2r = parse_region_file('Data/src2_1229.reg')"
   ]
  },
  {
   "cell_type": "code",
   "execution_count": 5,
   "metadata": {
    "collapsed": false
   },
   "outputs": [
    {
     "name": "stdout",
     "output_type": "stream",
     "text": [
      "OOB Score: 0.780078895464\n",
      "[('pha_ro', 0.26338217587841684), ('energy', 0.21946754363531804), ('yoff', 0.14281213490135053), ('xoff', 0.14014502815812066), ('time', 0.11569791403222794), ('fltgrade', 0.068761186965070137), ('grade', 0.049734016429495993)]\n"
     ]
    }
   ],
   "source": [
    "# using b1,s1 as training, b2,s2 as\n",
    "trnx,trny = np.hstack((s1x,b1x)),np.hstack((s1y,b1y))\n",
    "trnl = np.hstack((np.ones(len(s1x)),np.zeros(len(b1x)))) \n",
    "trne,trnlab = merge_pos(ec,trnx,trny,trnl)\n",
    "\n",
    "rfc,X,Y = build_rfc(trne,trnlab) \n",
    "\n",
    "print \"OOB Score: {0}\".format(rfc.oob_score_)\n",
    "print sorted(zip(trne.colnames,rfc.feature_importances_),key=lambda q: q[1],reverse=True)"
   ]
  },
  {
   "cell_type": "code",
   "execution_count": 6,
   "metadata": {
    "collapsed": false
   },
   "outputs": [
    {
     "name": "stdout",
     "output_type": "stream",
     "text": [
      "Source Tests\n",
      "BG%  S%   (N)\n",
      "13.0 87.0 (77)\n",
      "21.3 78.7 (89)\n",
      "5.7 94.3 (122)\n",
      "18.9 81.1 (111)\n",
      "18.8 81.2 (64)\n",
      "8.2 91.8 (110)\n"
     ]
    }
   ],
   "source": [
    "# sources\n",
    "print \"Source Tests\"\n",
    "print \"BG%  S%   (N)\"\n",
    "for xi,yi in zip(s2x,s2y): \n",
    "    lp = do_rfc(get_events(ec,xi,yi),rfc)"
   ]
  },
  {
   "cell_type": "code",
   "execution_count": 7,
   "metadata": {
    "collapsed": false
   },
   "outputs": [
    {
     "name": "stdout",
     "output_type": "stream",
     "text": [
      "Background Tests\n",
      "BG%  S%   (N)\n",
      "38.9 61.1 (18)\n",
      "61.9 38.1 (21)\n",
      "67.6 32.4 (34)\n",
      "53.3 46.7 (15)\n",
      "47.2 52.8 (36)\n",
      "65.0 35.0 (20)\n",
      "56.0 44.0 (25)\n",
      "50.0 50.0 (20)\n"
     ]
    }
   ],
   "source": [
    "# bg\n",
    "print \"Background Tests\"\n",
    "print \"BG%  S%   (N)\"\n",
    "for xi,yi in zip(b2x,b2y):\n",
    "    lp = do_rfc(get_events(ec,xi,yi),rfc)"
   ]
  },
  {
   "cell_type": "code",
   "execution_count": 8,
   "metadata": {
    "collapsed": false
   },
   "outputs": [
    {
     "name": "stdout",
     "output_type": "stream",
     "text": [
      "40.9 59.1 (44)\n"
     ]
    }
   ],
   "source": [
    "lp = do_rfc(get_events(ec,4100.333,4130.125),rfc)"
   ]
  },
  {
   "cell_type": "code",
   "execution_count": null,
   "metadata": {
    "collapsed": true
   },
   "outputs": [],
   "source": []
  }
 ],
 "metadata": {
  "kernelspec": {
   "display_name": "Python 2",
   "language": "python",
   "name": "python2"
  },
  "language_info": {
   "codemirror_mode": {
    "name": "ipython",
    "version": 2
   },
   "file_extension": ".py",
   "mimetype": "text/x-python",
   "name": "python",
   "nbconvert_exporter": "python",
   "pygments_lexer": "ipython2",
   "version": "2.7.12"
  }
 },
 "nbformat": 4,
 "nbformat_minor": 1
}
