{
 "cells": [
  {
   "cell_type": "markdown",
   "metadata": {},
   "source": [
    "# X-class Day 3: Prototyping Source Classification with Random Forest\n",
    "\n",
    "Using RandomForestClassifier from scikit learn to train a classifier on photon event metadata. \n",
    "\n",
    "Input files: \n",
    " - event list \n",
    " - region files for training sets (bkg and src)\n",
    " - region files for testing sets (bkg and src)"
   ]
  },
  {
   "cell_type": "code",
   "execution_count": 1,
   "metadata": {
    "collapsed": true
   },
   "outputs": [],
   "source": [
    "# %load class2.py\n",
    "import pandas as pd\n",
    "import numpy as np\n",
    "import copy\n",
    "#import seaborn as sns\n",
    "import matplotlib as mpl\n",
    "import matplotlib.cm as cm\n",
    "from astropy.table import Table, vstack\n",
    "from sklearn.ensemble import RandomForestClassifier"
   ]
  },
  {
   "cell_type": "code",
   "execution_count": 9,
   "metadata": {
    "collapsed": true
   },
   "outputs": [],
   "source": [
    "def parse_region_file(reg_file): \n",
    "    \"\"\"parses a region file for coordinate positions and radii\n",
    "    \n",
    "    Region file syntax: \n",
    "        # Region file format: CIAO version 1.0\n",
    "        circle(3448.493,4095.1661,20.325203)\n",
    "        circle(3811.8263,4301.8327,20.325203)\n",
    "        ...\n",
    "        \n",
    "    which is: generic_shape(x,y,radius)\n",
    "    \"\"\"\n",
    "    f = open(reg_file,'r')\n",
    "    x,y,r =[],[],[]\n",
    "    for l in f.readlines(): \n",
    "        if l[0] not in ['#','\\n',' ']:\n",
    "            xt,yt,rt = l.split('(')[1].split(')')[0].split(',')\n",
    "            x.append(float(xt));y.append(float(yt));r.append(float(rt))\n",
    "    return np.asarray(x),np.asarray(y),np.asarray(r)\n",
    "\n",
    "def get_events(evt,x,y,r=10.0):\n",
    "    \"\"\"get events from a position and calculate offset\n",
    "    \n",
    "    Event list and position x,y and radius are used to \n",
    "    trim a new event list into only the region of interest. \n",
    "    \n",
    "    Non-offset x,y values are removed from new event list. \n",
    "    \n",
    "    \"\"\"\n",
    "    revt = np.sqrt((evt['x']-x)**2+(evt['y']-y)**2)\n",
    "    tevt = copy.copy(evt[revt<=r])\n",
    "    tevt['xoff'] = tevt['x']-x\n",
    "    tevt['yoff'] = tevt['y']-y\n",
    "    del tevt['x']\n",
    "    del tevt['y']\n",
    "    return tevt\n",
    "\n",
    "def merge_pos(evt,x,y,lab,r=10.0): \n",
    "    \"\"\"Merges the x,y region of interests and associated labels. \n",
    "    \n",
    "    Full event list is queryed for list of x,y and lab and new merged \n",
    "    products are returned. \n",
    "    \"\"\"\n",
    "    for i in range(len(x)): \n",
    "        if (i == 0): \n",
    "            mevt = get_events(evt,x[i],y[i],r)\n",
    "            levt = np.zeros(len(mevt))\n",
    "            levt[:] = lab[i]\n",
    "        else:\n",
    "            tmpevt = get_events(evt,x[i],y[i],r)\n",
    "            tmplevt = np.zeros(len(tmpevt))\n",
    "            tmplevt[:] = lab[i] \n",
    "            mevt = vstack([mevt,tmpevt])\n",
    "            levt = np.hstack([levt,tmplevt])\n",
    "    return mevt,levt\n",
    "\n",
    "def build_rfc(evt,lab,rfc = None):\n",
    "    \"\"\"Build and fit random forest classifier. \n",
    "    \n",
    "    Generates RFC if rfc is None, otherwise can use user-defined rfc. \n",
    "    \n",
    "    \"\"\"\n",
    "    if (rfc is None): \n",
    "        rfc = RandomForestClassifier(n_estimators=200,oob_score=True)\n",
    "    X = copy.copy(evt.to_pandas())\n",
    "    Y = copy.copy(lab)\n",
    "    rfc.fit(X.values,Y)\n",
    "    return rfc,X.values,Y\n",
    "\n",
    "def do_rfc(evt,rfc): \n",
    "    \"\"\"Classify event list. \n",
    "    \"\"\"\n",
    "    X = copy.copy(evt.to_pandas())\n",
    "    Y = rfc.predict(X.values)\n",
    "    print \"{0:0.1f} {1:0.1f} ({2})\".format(100.*float(len(np.where(Y==0)[0]))/len(Y),\n",
    "                                           100.*float(len(np.where(Y==1)[0]))/len(Y),len(Y))\n",
    "    return Y  "
   ]
  },
  {
   "cell_type": "code",
   "execution_count": 10,
   "metadata": {
    "collapsed": true
   },
   "outputs": [],
   "source": [
    "# read all events \n",
    "e = Table.read('Data/evt_1229.fits',hdu=1)\n",
    "# rid ec of bad columns\n",
    "ec = copy.copy(e)\n",
    "badcols = ['status','ccd_id','expno','node_id','chipx','chipy','tdetx','tdety','detx','dety','pi','pha']\n",
    "for bc in badcols: \n",
    "    del ec[bc]"
   ]
  },
  {
   "cell_type": "code",
   "execution_count": 11,
   "metadata": {
    "collapsed": false
   },
   "outputs": [],
   "source": [
    "# read region positions:\n",
    "b1x,b1y,b1r = parse_region_file('Data/b1_1229.reg')\n",
    "b2x,b2y,b2r = parse_region_file('Data/b2_1229.reg')\n",
    "s1x,s1y,s1r = parse_region_file('Data/src1_1229.reg')\n",
    "s2x,s2y,s2r = parse_region_file('Data/src2_1229.reg')"
   ]
  },
  {
   "cell_type": "code",
   "execution_count": 13,
   "metadata": {
    "collapsed": true
   },
   "outputs": [],
   "source": [
    "# using b1,s1 as training, b2,s2 as\n",
    "trnx,trny = np.hstack((s1x,b1x)),np.hstack((s1y,b1y))\n",
    "trnl = np.hstack((np.ones(len(s1x)),np.zeros(len(b1x))))"
   ]
  },
  {
   "cell_type": "code",
   "execution_count": 14,
   "metadata": {
    "collapsed": true
   },
   "outputs": [],
   "source": [
    "trne,trnlab = merge_pos(ec,trnx,trny,trnl)"
   ]
  },
  {
   "cell_type": "code",
   "execution_count": 15,
   "metadata": {
    "collapsed": false
   },
   "outputs": [
    {
     "name": "stdout",
     "output_type": "stream",
     "text": [
      "OOB Score: 0.681998864282\n",
      "[('pha_ro', 0.2153833339454897), ('energy', 0.20705415666650728), ('yoff', 0.17866798299748449), ('xoff', 0.16223802147515634), ('time', 0.13131316254200606), ('fltgrade', 0.062291237039190282), ('grade', 0.043052105334165952)]\n"
     ]
    }
   ],
   "source": [
    "rfc,X,Y = build_rfc(trne,trnlab) \n",
    "\n",
    "print \"OOB Score: {0}\".format(rfc.oob_score_)\n",
    "print sorted(zip(trne.colnames,rfc.feature_importances_),key=lambda q: q[1],reverse=True)"
   ]
  },
  {
   "cell_type": "code",
   "execution_count": 16,
   "metadata": {
    "collapsed": false
   },
   "outputs": [
    {
     "name": "stdout",
     "output_type": "stream",
     "text": [
      "Source Tests\n",
      "BG%  S%   (N)\n",
      "31.7 68.3 (120)\n",
      "37.5 62.5 (128)\n",
      "19.2 80.8 (151)\n",
      "32.5 67.5 (154)\n",
      "39.6 60.4 (101)\n",
      "23.7 76.3 (198)\n"
     ]
    }
   ],
   "source": [
    "# sources\n",
    "print \"Source Tests\"\n",
    "print \"BG%  S%   (N)\"\n",
    "for xi,yi in zip(s2x,s2y): \n",
    "    lp = do_rfc(get_events(ec,xi,yi),rfc)"
   ]
  },
  {
   "cell_type": "code",
   "execution_count": 17,
   "metadata": {
    "collapsed": false
   },
   "outputs": [
    {
     "name": "stdout",
     "output_type": "stream",
     "text": [
      "Background Tests\n",
      "BG%  S%   (N)\n",
      "63.3 36.7 (49)\n",
      "70.0 30.0 (60)\n",
      "69.6 30.4 (79)\n",
      "67.2 32.8 (61)\n",
      "60.5 39.5 (76)\n",
      "73.0 27.0 (63)\n",
      "57.6 42.4 (59)\n",
      "71.2 28.8 (52)\n"
     ]
    }
   ],
   "source": [
    "# bg\n",
    "print \"Background Tests\"\n",
    "print \"BG%  S%   (N)\"\n",
    "for xi,yi in zip(b2x,b2y):\n",
    "    lp = do_rfc(get_events(ec,xi,yi),rfc)"
   ]
  },
  {
   "cell_type": "code",
   "execution_count": 18,
   "metadata": {
    "collapsed": false
   },
   "outputs": [
    {
     "name": "stdout",
     "output_type": "stream",
     "text": [
      "54.4 45.6 (90)\n"
     ]
    }
   ],
   "source": [
    "lp = do_rfc(get_events(ec,4100.333,4130.125),rfc)"
   ]
  },
  {
   "cell_type": "markdown",
   "metadata": {
    "collapsed": true
   },
   "source": [
    "Good for high count sources. So-so for low count. \n",
    "\n",
    "Todo: \n",
    " - determine dependency on radius of region considered \n",
    " - mess with RFC parameters \n",
    " - run on a list of star positions (2MASS/USNO) "
   ]
  },
  {
   "cell_type": "code",
   "execution_count": null,
   "metadata": {
    "collapsed": true
   },
   "outputs": [],
   "source": []
  }
 ],
 "metadata": {
  "kernelspec": {
   "display_name": "Python 2",
   "language": "python",
   "name": "python2"
  },
  "language_info": {
   "codemirror_mode": {
    "name": "ipython",
    "version": 2
   },
   "file_extension": ".py",
   "mimetype": "text/x-python",
   "name": "python",
   "nbconvert_exporter": "python",
   "pygments_lexer": "ipython2",
   "version": "2.7.12"
  }
 },
 "nbformat": 4,
 "nbformat_minor": 1
}
