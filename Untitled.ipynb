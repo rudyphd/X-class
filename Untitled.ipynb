{
 "cells": [
  {
   "cell_type": "markdown",
   "metadata": {},
   "source": [
    "# X-class Day 3: Prototyping Source Classification with Random Forest\n",
    "\n",
    "Using RandomForestClassifier from scikit learn to train a classifier on photon event metadata. \n",
    "\n",
    "Input files: \n",
    " - event list \n",
    " - region files for training sets (bkg and src)\n",
    " - region files for testing sets (bkg and src)"
   ]
  },
  {
   "cell_type": "code",
   "execution_count": null,
   "metadata": {
    "collapsed": true
   },
   "outputs": [],
   "source": [
    "# %load class2.py\n",
    "import pandas as pd\n",
    "import copy\n",
    "#import seaborn as sns\n",
    "import matplotlib as mpl\n",
    "import matplotlib.cm as cm\n",
    "from astropy.table import Table, vstack\n",
    "from sklearn.ensemble import RandomForestClassifier"
   ]
  },
  {
   "cell_type": "markdown",
   "metadata": {},
   "source": [
    "Define helper functions. "
   ]
  },
  {
   "cell_type": "code",
   "execution_count": 2,
   "metadata": {
    "collapsed": false
   },
   "outputs": [
    {
     "ename": "IndentationError",
     "evalue": "unexpected indent (<ipython-input-2-337d7a055e83>, line 3)",
     "output_type": "error",
     "traceback": [
      "\u001b[0;36m  File \u001b[0;32m\"<ipython-input-2-337d7a055e83>\"\u001b[0;36m, line \u001b[0;32m3\u001b[0m\n\u001b[0;31m    f = open(reg_file,'r')\u001b[0m\n\u001b[0m    ^\u001b[0m\n\u001b[0;31mIndentationError\u001b[0m\u001b[0;31m:\u001b[0m unexpected indent\n"
     ]
    }
   ],
   "source": [
    "def parse_region_file(reg_file):\n",
    "    \"\"\"parse the region file for coordinates and radius\"\"\"\n",
    "\tf = open(reg_file,'r')\n",
    "\tx,y,r =[],[],[]\n",
    "\tfor l in f.readlines(): \n",
    "\t\tif l[0] not in ['#','\\n',' ']:\n",
    "\t\t\txt,yt,rt = l.split('(')[1].split(')')[0].split(',')\n",
    "\t\t\tx.append(float(xt));y.append(float(yt));r.append(float(rt))\n",
    "\treturn np.asarray(x),np.asarray(y),np.asarray(r)\n",
    "\n",
    "def get_events(evt,x,y,r=6.0):\n",
    "    \"\"\"get events from event list within some radius (r)\"\"\"\n",
    "\trevt = np.sqrt((evt['x']-x)**2+(evt['y']-y)**2)\n",
    "\ttevt = copy.copy(evt[revt<=r])\n",
    "\ttevt['xoff'] = tevt['x']-x\n",
    "\ttevt['yoff'] = tevt['y']-y\n",
    "\tdel tevt['x']\n",
    "\tdel tevt['y']\n",
    "\treturn tevt\n",
    "\n",
    "def merge_pos(evt,x,y,lab,r=6.0): \n",
    "\tfor i in range(len(x)): \n",
    "\t\tif (i == 0): \n",
    "\t\t\tmevt = get_events(evt,x[i],y[i],r)\n",
    "\t\t\tlevt = np.zeros(len(mevt))\n",
    "\t\t\tlevt[:] = lab[i]\n",
    "\t\telse:\n",
    "\t\t\ttmpevt = get_events(evt,x[i],y[i],r)\n",
    "\t\t\ttmplevt = np.zeros(len(tmpevt))\n",
    "\t\t\ttmplevt[:] = lab[i] \n",
    "\t\t\tmevt = vstack([mevt,tmpevt])\n",
    "\t\t\tlevt = np.hstack([levt,tmplevt])\n",
    "\t\t\t\n",
    "\treturn mevt,levt\n",
    "\n",
    "def build_rfc(evt,lab,rfc = None):\n",
    "\tif (rfc is None): \n",
    "\t\trfc = RandomForestClassifier(n_estimators=200,oob_score=True)\n",
    "\tX = copy.copy(evt.to_pandas())\n",
    "\tY = copy.copy(lab)\n",
    "\trfc.fit(X.values,Y)\n",
    "\treturn rfc,X.values,Y\n",
    "\n",
    "def do_rfc(evt,rfc): \n",
    "\tX = copy.copy(evt.to_pandas())\n",
    "\tY = rfc.predict(X.values)\n",
    "\tprint \"{0:0.1f} {1:0.1f} ({2})\".format(100.*float(len(np.where(Y==0)[0]))/len(Y),\n",
    "\t\t\t\t\t\t\t\t\t       100.*float(len(np.where(Y==1)[0]))/len(Y),len(Y))\n",
    "\treturn Y \n",
    "\t \n",
    "\n",
    "#def class_pos(evt,pos,r=10.0): \n",
    "#\t\"\"\"classify position for source or bkg\"\"\"\n",
    "\t\n",
    "# read all events \n",
    "e = Table.read('Data/evt_1229.fits',hdu=1)\n",
    "# rid ec of bad columns\n",
    "ec = copy.copy(e)\n",
    "badcols = ['status','ccd_id','expno','node_id','chipx','chipy','tdetx','tdety','detx','dety','pi','pha']\n",
    "for bc in badcols: \n",
    "\tdel ec[bc]\n",
    "ed = ec.to_pandas()\n",
    "\n",
    "# read region positions:\n",
    "b1x,b1y,b1r = parse_region_file('Data/b1_1229.reg')\n",
    "b2x,b2y,b2r = parse_region_file('Data/b2_1229.reg')\n",
    "s1x,s1y,s1r = parse_region_file('Data/src1_1229.reg')\n",
    "s2x,s2y,s2r = parse_region_file('Data/src2_1229.reg')\n",
    "\n",
    "# using b1,s1 as training, b2,s2 as\n",
    "trnx,trny = np.hstack((s1x,b1x)),np.hstack((s1y,b1y))\n",
    "trnl = np.hstack((np.ones(len(s1x)),np.zeros(len(b1x)))) \n",
    "trne,trnlab = merge_pos(ec,trnx,trny,trnl)\n",
    "\n",
    "rfc,X,Y = build_rfc(trne,trnlab) # = RandomForestClassifier(n_estimators=200,oob_score=True)\n",
    "\n",
    "print \"OOB Score: {0}\".format(rfc.oob_score_)\n",
    "sorted(zip(trne.colnames,rfc.feature_importances_),key=lambda q: q[1],reverse=True)\n",
    "\n",
    "# sources\n",
    "print \"Source Tests\"\n",
    "print \"BG%  S% (N)\"\n",
    "for xi,yi in zip(s2x,s2y): \n",
    "\tlp = do_rfc(get_events(ec,xi,yi),rfc)\n",
    "\n",
    "# bg\n",
    "print \"Background Tests\"\n",
    "print \"BG%  S%\"\n",
    "for xi,yi in zip(b2x,b2y):\n",
    "    lp = do_rfc(get_events(ec,xi,yi),rfc)"
   ]
  },
  {
   "cell_type": "code",
   "execution_count": null,
   "metadata": {
    "collapsed": true
   },
   "outputs": [],
   "source": []
  }
 ],
 "metadata": {
  "kernelspec": {
   "display_name": "Python 2",
   "language": "python",
   "name": "python2"
  },
  "language_info": {
   "codemirror_mode": {
    "name": "ipython",
    "version": 2
   },
   "file_extension": ".py",
   "mimetype": "text/x-python",
   "name": "python",
   "nbconvert_exporter": "python",
   "pygments_lexer": "ipython2",
   "version": "2.7.12"
  }
 },
 "nbformat": 4,
 "nbformat_minor": 1
}
