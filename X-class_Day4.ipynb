{
 "cells": [
  {
   "cell_type": "markdown",
   "metadata": {},
   "source": [
    "# X-class Day 4: Details Details\n",
    "\n",
    "Using RandomForestClassifier from scikit learn to train a classifier on photon event metadata. \n",
    "\n",
    "Input files: \n",
    " - event list \n",
    " - region files for training sets (bkg and src)\n",
    " - region files for testing sets (bkg and src)\n",
    " \n",
    " This notebook updates by performance by exploring the parameters. "
   ]
  },
  {
   "cell_type": "code",
   "execution_count": 1,
   "metadata": {
    "collapsed": true
   },
   "outputs": [],
   "source": [
    "# %load class2.py\n",
    "import pandas as pd\n",
    "import numpy as np\n",
    "import matplotlib.pyplot as plt\n",
    "import copy\n",
    "#import seaborn as sns\n",
    "import matplotlib as mpl\n",
    "import matplotlib.cm as cm\n",
    "from astropy.table import Table, vstack\n",
    "from sklearn.ensemble import RandomForestClassifier"
   ]
  },
  {
   "cell_type": "code",
   "execution_count": 2,
   "metadata": {
    "collapsed": true
   },
   "outputs": [],
   "source": [
    "def parse_region_file(reg_file): \n",
    "    \"\"\"parses a region file for coordinate positions and radii\n",
    "    \n",
    "    Region file syntax: \n",
    "        # Region file format: CIAO version 1.0\n",
    "        circle(3448.493,4095.1661,20.325203)\n",
    "        circle(3811.8263,4301.8327,20.325203)\n",
    "        ...\n",
    "        \n",
    "    which is: generic_shape(x,y,radius)\n",
    "    \"\"\"\n",
    "    f = open(reg_file,'r')\n",
    "    x,y,r =[],[],[]\n",
    "    for l in f.readlines(): \n",
    "        if l[0] not in ['#','\\n',' ']:\n",
    "            xt,yt,rt = l.split('(')[1].split(')')[0].split(',')\n",
    "            x.append(float(xt));y.append(float(yt));r.append(float(rt))\n",
    "    return np.asarray(x),np.asarray(y),np.asarray(r)\n",
    "\n",
    "def get_events(evt,x,y,r=10.0):\n",
    "    \"\"\"get events from a position and calculate offset\n",
    "    \n",
    "    Event list and position x,y and radius are used to \n",
    "    trim a new event list into only the region of interest. \n",
    "    \n",
    "    Non-offset x,y values are removed from new event list. \n",
    "    \n",
    "    \"\"\"\n",
    "    revt = np.sqrt((evt['x']-x)**2+(evt['y']-y)**2)\n",
    "    tevt = copy.copy(evt[revt<=r])\n",
    "    tevt['xoff'] = tevt['x']-x\n",
    "    tevt['yoff'] = tevt['y']-y\n",
    "    del tevt['x']\n",
    "    del tevt['y']\n",
    "    return tevt\n",
    "\n",
    "def merge_pos(evt,x,y,lab,r=10.0): \n",
    "    \"\"\"Merges the x,y region of interests and associated labels. \n",
    "    \n",
    "    Full event list is queryed for list of x,y and lab and new merged \n",
    "    products are returned. \n",
    "    \"\"\"\n",
    "    for i in range(len(x)): \n",
    "        if (i == 0): \n",
    "            mevt = get_events(evt,x[i],y[i],r)\n",
    "            levt = np.zeros(len(mevt))\n",
    "            levt[:] = lab[i]\n",
    "        else:\n",
    "            tmpevt = get_events(evt,x[i],y[i],r)\n",
    "            tmplevt = np.zeros(len(tmpevt))\n",
    "            tmplevt[:] = lab[i] \n",
    "            mevt = vstack([mevt,tmpevt])\n",
    "            levt = np.hstack([levt,tmplevt])\n",
    "    return mevt,levt\n",
    "\n",
    "def build_rfc(evt,lab,rfc = None):\n",
    "    \"\"\"Build and fit random forest classifier. \n",
    "    \n",
    "    Generates RFC if rfc is None, otherwise can use user-defined rfc. \n",
    "    \n",
    "    \"\"\"\n",
    "    if (rfc is None): \n",
    "        rfc = RandomForestClassifier(n_estimators=200,oob_score=True)\n",
    "    X = copy.copy(evt.to_pandas())\n",
    "    Y = copy.copy(lab)\n",
    "    rfc.fit(X.values,Y)\n",
    "    return rfc,X.values,Y\n",
    "\n",
    "def do_rfc(evt,rfc,output=False): \n",
    "    \"\"\"Classify event list. \n",
    "    \"\"\"\n",
    "    X = copy.copy(evt.to_pandas())\n",
    "    Y = rfc.predict(X.values)\n",
    "    fsrc,fbkg,nevt = float(len(np.where(Y==1)[0]))/len(Y),float(len(np.where(Y==0)[0]))/len(Y),len(Y)\n",
    "    if (output): print \"{0:0.1f} {1:0.1f} ({2})\".format(100.*fbkg,100.*fsrc,nevt)\n",
    "    return Y, np.array([fsrc,fbkg,nevt])  "
   ]
  },
  {
   "cell_type": "code",
   "execution_count": 3,
   "metadata": {
    "collapsed": true
   },
   "outputs": [],
   "source": [
    "# read all events \n",
    "e = Table.read('Data/evt_1229.fits',hdu=1)\n",
    "# rid ec of bad columns\n",
    "ec = copy.copy(e)\n",
    "badcols = ['status','ccd_id','expno','node_id','chipx','chipy','tdetx','tdety','detx','dety','pi','pha']\n",
    "for bc in badcols: \n",
    "    del ec[bc]"
   ]
  },
  {
   "cell_type": "code",
   "execution_count": 4,
   "metadata": {
    "collapsed": false
   },
   "outputs": [],
   "source": [
    "# read region positions:\n",
    "b1x,b1y,b1r = parse_region_file('Data/b1_1229.reg')\n",
    "b2x,b2y,b2r = parse_region_file('Data/b2_1229.reg')\n",
    "s1x,s1y,s1r = parse_region_file('Data/src1_1229.reg')\n",
    "s2x,s2y,s2r = parse_region_file('Data/src2_1229.reg')"
   ]
  },
  {
   "cell_type": "code",
   "execution_count": 5,
   "metadata": {
    "collapsed": true
   },
   "outputs": [],
   "source": [
    "# using b1,s1 as training, b2,s2 as\n",
    "trnx,trny = np.hstack((s1x,b1x)),np.hstack((s1y,b1y))\n",
    "trnl = np.hstack((np.ones(len(s1x)),np.zeros(len(b1x))))"
   ]
  },
  {
   "cell_type": "markdown",
   "metadata": {},
   "source": [
    "Want to see how the region of interest radius influences the classifier. \n",
    "\n",
    "Running a series of radii:"
   ]
  },
  {
   "cell_type": "code",
   "execution_count": 6,
   "metadata": {
    "collapsed": true
   },
   "outputs": [],
   "source": [
    "r = np.arange(30.0,2.0,-1.0)"
   ]
  },
  {
   "cell_type": "markdown",
   "metadata": {},
   "source": [
    "Information we want to collect are the classifiers (len(r)), 6 source results: BG/SRC/N, 8 bkgrd results: BG/SRC/N"
   ]
  },
  {
   "cell_type": "code",
   "execution_count": null,
   "metadata": {
    "collapsed": true
   },
   "outputs": [],
   "source": [
    "rfc_lst = []\n",
    "rfc_src = np.zeros((len(r),len(s2x),3))\n",
    "rfc_bkg = np.zeros((len(r),len(b2x),3))\n",
    "rfc_esrc = np.zeros((len(r),len(s2x)))\n",
    "rfc_ebkg = np.zeros((len(r),len(b2x)))"
   ]
  },
  {
   "cell_type": "code",
   "execution_count": null,
   "metadata": {
    "collapsed": false
   },
   "outputs": [],
   "source": [
    "for j in range(len(r)): \n",
    "    trne,trnlab = merge_pos(ec,trnx,trny,trnl,r=r[j])\n",
    "    rfc,X,Y = build_rfc(trne,trnlab) \n",
    "    rfc_lst.append(rfc)\n",
    "    # print \"OOB Score: {0}\".format(rfc.oob_score_)\n",
    "    # print sorted(zip(trne.colnames,rfc.feature_importances_),key=lambda q: q[1],reverse=True)\n",
    "    # sources\n",
    "    for i in range(len(s2x)): \n",
    "        srclp,srca = do_rfc(get_events(ec,s2x[i],s2y[i]),rfc)\n",
    "        rfc_src[j,i,:] = srca\n",
    "        rfc_esrc[j,i] = np.sqrt(1+srca[0])/np.sqrt(srca[0]*srca[2])\n",
    "    # bg\n",
    "    for i in range(len(b2x)): \n",
    "        bkglp,bkga = do_rfc(get_events(ec,b2x[i],b2y[i]),rfc)\n",
    "        rfc_bkg[j,i,:] = bkga\n",
    "        rfc_ebkg[j,i] = np.sqrt(1+bkga[1])/np.sqrt(bkga[1]*bkga[2])"
   ]
  },
  {
   "cell_type": "code",
   "execution_count": null,
   "metadata": {
    "collapsed": false
   },
   "outputs": [],
   "source": [
    "f = plt.figure(num=1,figsize=(16,7))\n",
    "ax1 = f.add_subplot(1,2,1)\n",
    "ax2 = f.add_subplot(1,2,2)\n",
    "cmap = mpl.cm.get_cmap('gist_heat')\n",
    "for i in range(len(s2x)): \n",
    "    thiscolor = cmap(float(i)/(len(s2x)+1))\n",
    "    ax1.fill_between(r,rfc_src[:,i,0]+rfc_esrc[:,i],rfc_src[:,i,0]-rfc_esrc[:,i],\n",
    "                    color=thiscolor,zorder=0,alpha=0.25)\n",
    "    ax1.plot(r,rfc_src[:,i,0],'-',color=thiscolor,label='SRC{0}'.format(i),zorder=10)    \n",
    "for i in range(len(b2x)):\n",
    "    thiscolor = cmap(float(i)/(len(b2x)+1))\n",
    "    ax2.fill_between(r,rfc_bkg[:,i,1]+rfc_ebkg[:,i],rfc_bkg[:,i,1]-rfc_ebkg[:,i],\n",
    "                     color=thiscolor,zorder=0,alpha=0.25)\n",
    "    ax2.plot(r,rfc_bkg[:,i,1],'-',color=thiscolor,label='BKG{0}'.format(i))\n",
    "ax1.hlines(0.5,min(r),max(r),colors='k',linestyles='--')\n",
    "ax2.hlines(0.5,min(r),max(r),colors='k',linestyles='--')\n",
    "ax1.set_ylim(0,1); ax1.set_title('Test Sources')\n",
    "ax1.set_ylabel('Fraction of SRC Photons'); ax1.set_xlabel('Radius (pixels)')\n",
    "ax2.set_ylim(0,1); ax2.set_title('Test Background')\n",
    "ax2.set_ylabel('Fraction of BKG Photons'); ax2.set_xlabel('Radius (pixels)')\n",
    "ax1.legend(loc='lower right'); ax2.legend(loc='lower right')\n",
    "plt.show()\n"
   ]
  },
  {
   "cell_type": "markdown",
   "metadata": {
    "collapsed": true
   },
   "source": [
    "Add error estimate... \n",
    "\n",
    "For each radius we have the number of events, used poisson sigma estimate (sqrt(N)) to quantify error. \n",
    "\n"
   ]
  },
  {
   "cell_type": "code",
   "execution_count": null,
   "metadata": {
    "collapsed": true
   },
   "outputs": [],
   "source": []
  }
 ],
 "metadata": {
  "kernelspec": {
   "display_name": "Python 2",
   "language": "python",
   "name": "python2"
  },
  "language_info": {
   "codemirror_mode": {
    "name": "ipython",
    "version": 2
   },
   "file_extension": ".py",
   "mimetype": "text/x-python",
   "name": "python",
   "nbconvert_exporter": "python",
   "pygments_lexer": "ipython2",
   "version": "2.7.12"
  }
 },
 "nbformat": 4,
 "nbformat_minor": 1
}
